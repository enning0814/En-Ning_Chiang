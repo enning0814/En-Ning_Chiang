{
 "cells": [
  {
   "cell_type": "markdown",
   "id": "4634f8b2",
   "metadata": {},
   "source": [
    "Given a string s, find the length of the longest substring without repeating characters. "
   ]
  },
  {
   "cell_type": "markdown",
   "id": "73498d67",
   "metadata": {},
   "source": [
    "Constraints:   \n",
    "    0 <= s.length <= 5*10.  \n",
    "    s consists of English letters, digits, symbols and spaces. "
   ]
  },
  {
   "cell_type": "code",
   "execution_count": 7,
   "id": "086e54f7",
   "metadata": {},
   "outputs": [],
   "source": [
    "def lengthLongestSubstring(s):\n",
    "    \n",
    "    if len(set(s)) == len(s):\n",
    "        return len(s)\n",
    "    \n",
    "    substring = ''\n",
    "    maxLen = 1\n",
    "    for i in s:\n",
    "        if i not in substring:\n",
    "            substring = substring + i\n",
    "            maxLen = max(maxLen, len(substring))\n",
    "        else:\n",
    "            substring = substring.split(i)[1] + i\n",
    "    return maxLen"
   ]
  },
  {
   "cell_type": "markdown",
   "id": "313f299e",
   "metadata": {},
   "source": [
    "#### Example 1: \n",
    "input: s = 'abcabcbb'   \n",
    "output: 3"
   ]
  },
  {
   "cell_type": "code",
   "execution_count": 8,
   "id": "3547dbbb",
   "metadata": {},
   "outputs": [
    {
     "data": {
      "text/plain": [
       "3"
      ]
     },
     "execution_count": 8,
     "metadata": {},
     "output_type": "execute_result"
    }
   ],
   "source": [
    "s = 'abcabcbb'\n",
    "lengthLongestSubstring(s)"
   ]
  },
  {
   "cell_type": "markdown",
   "id": "040934f3",
   "metadata": {},
   "source": [
    "#### Example 2:\n",
    "input: s = 'bbbbb'   \n",
    "output: 1"
   ]
  },
  {
   "cell_type": "code",
   "execution_count": 9,
   "id": "790201d3",
   "metadata": {},
   "outputs": [
    {
     "data": {
      "text/plain": [
       "1"
      ]
     },
     "execution_count": 9,
     "metadata": {},
     "output_type": "execute_result"
    }
   ],
   "source": [
    "s = 'bbbbb'\n",
    "lengthLongestSubstring(s)"
   ]
  },
  {
   "cell_type": "markdown",
   "id": "18d17c57",
   "metadata": {},
   "source": [
    "#### Example 3: \n",
    "input: s = 'pwwkew'   \n",
    "output: 3"
   ]
  },
  {
   "cell_type": "code",
   "execution_count": 10,
   "id": "62648c3a",
   "metadata": {},
   "outputs": [
    {
     "data": {
      "text/plain": [
       "3"
      ]
     },
     "execution_count": 10,
     "metadata": {},
     "output_type": "execute_result"
    }
   ],
   "source": [
    "s = 'pwwkew'\n",
    "lengthLongestSubstring(s)"
   ]
  }
 ],
 "metadata": {
  "kernelspec": {
   "display_name": "Python 3",
   "language": "python",
   "name": "python3"
  },
  "language_info": {
   "codemirror_mode": {
    "name": "ipython",
    "version": 3
   },
   "file_extension": ".py",
   "mimetype": "text/x-python",
   "name": "python",
   "nbconvert_exporter": "python",
   "pygments_lexer": "ipython3",
   "version": "3.8.8"
  }
 },
 "nbformat": 4,
 "nbformat_minor": 5
}
